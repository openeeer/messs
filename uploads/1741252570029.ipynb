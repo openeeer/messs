{
 "cells": [
  {
   "cell_type": "code",
   "execution_count": 1,
   "metadata": {},
   "outputs": [],
   "source": [
    "import numpy as np\n",
    "import math\n",
    "import random"
   ]
  },
  {
   "cell_type": "code",
   "execution_count": 2,
   "metadata": {},
   "outputs": [],
   "source": [
    "def encrypt_l(plaintext, key)-> np.ndarray:\n",
    "    rows = ((len(plaintext) + key - 1) // key)\n",
    "    padded_string = plaintext.ljust(rows * key, ' ')\n",
    "    array = np.array(list(padded_string)).reshape(rows, key)\n",
    "\n",
    "    print(array)\n",
    "\n",
    "    encoded = ''\n",
    "\n",
    "    for i in range(key):\n",
    "        for j in range(rows):\n",
    "            encoded += array[j][i]\n",
    "\n",
    "\n",
    "    return encoded\n",
    "\n",
    "def decrypt_l(cipher, key):\n",
    "    rows = (len(cipher) + key - 1) // key\n",
    "    decoded = ''\n",
    "\n",
    "    for i in range(rows):\n",
    "        for j in range(key):\n",
    "            decoded += cipher[j*(rows) + i]\n",
    "\n",
    "\n",
    "    return decoded"
   ]
  },
  {
   "cell_type": "code",
   "execution_count": 3,
   "metadata": {},
   "outputs": [],
   "source": [
    "def pad_message(message: str, rows: int, cols: int) -> str:\n",
    "    total_size = rows * cols\n",
    "    return message.ljust(total_size, '_')\n",
    "\n",
    "def fill_table(message: str, rows: int, cols: int, route: str) -> np.ndarray:\n",
    "    padded = pad_message(message, rows, cols)\n",
    "    table = np.empty((rows, cols), dtype='U1')\n",
    "\n",
    "    if route == 'row':\n",
    "        table[:] = np.array(list(padded)).reshape(rows, cols)\n",
    "    elif route == 'column':\n",
    "        table[:] = np.array(list(padded)).reshape(cols, rows).T\n",
    "    else:\n",
    "        raise ValueError(\"Unsupported route. Use 'row' or 'column'.\")\n",
    "\n",
    "    return table\n",
    "\n",
    "def read_table(table: np.ndarray, route: str) -> str:\n",
    "    if route == 'row':\n",
    "        return ''.join(table.flatten())\n",
    "    elif route == 'column':\n",
    "        return ''.join(table.T.flatten())\n",
    "    else:\n",
    "        raise ValueError(\"Unsupported route. Use 'row' or 'column'.\")\n",
    "\n",
    "def encrypt(message: str, rows: int, cols: int, entry_route: str, exit_route: str) -> str:\n",
    "    table = fill_table(message, rows, cols, entry_route)\n",
    "    return read_table(table, exit_route)\n"
   ]
  },
  {
   "cell_type": "code",
   "execution_count": 4,
   "metadata": {},
   "outputs": [
    {
     "name": "stdout",
     "output_type": "stream",
     "text": [
      "sljs;dddlff_fgg_gkk_kll_\n",
      "Жоие____крбчн___еьиел___лвшаА___оыВ_т___м_йр____\n"
     ]
    },
    {
     "ename": "ValueError",
     "evalue": "invalid literal for int() with base 10: ''",
     "output_type": "error",
     "traceback": [
      "\u001b[1;31m---------------------------------------------------------------------------\u001b[0m",
      "\u001b[1;31mValueError\u001b[0m                                Traceback (most recent call last)",
      "Cell \u001b[1;32mIn[4], line 5\u001b[0m\n\u001b[0;32m      3\u001b[0m \u001b[38;5;28;01mif\u001b[39;00m (ch \u001b[38;5;241m==\u001b[39m \u001b[38;5;124m\"\u001b[39m\u001b[38;5;124m1\u001b[39m\u001b[38;5;124m\"\u001b[39m):\n\u001b[0;32m      4\u001b[0m     \u001b[38;5;28mstr\u001b[39m \u001b[38;5;241m=\u001b[39m \u001b[38;5;28minput\u001b[39m(\u001b[38;5;124m\"\u001b[39m\u001b[38;5;124mИсходная строка:\u001b[39m\u001b[38;5;124m\"\u001b[39m)\n\u001b[1;32m----> 5\u001b[0m     n_rows \u001b[38;5;241m=\u001b[39m \u001b[38;5;28;43mint\u001b[39;49m\u001b[43m(\u001b[49m\u001b[38;5;28;43minput\u001b[39;49m\u001b[43m(\u001b[49m\u001b[38;5;124;43m\"\u001b[39;49m\u001b[38;5;124;43mстроки:\u001b[39;49m\u001b[38;5;124;43m\"\u001b[39;49m\u001b[43m)\u001b[49m\u001b[43m)\u001b[49m\n\u001b[0;32m      6\u001b[0m     n_columns \u001b[38;5;241m=\u001b[39m \u001b[38;5;28mint\u001b[39m(\u001b[38;5;28minput\u001b[39m(\u001b[38;5;124m\"\u001b[39m\u001b[38;5;124mСтолбцы:\u001b[39m\u001b[38;5;124m\"\u001b[39m))\n\u001b[0;32m      7\u001b[0m     inroute \u001b[38;5;241m=\u001b[39m \u001b[38;5;28minput\u001b[39m(\u001b[38;5;124m\"\u001b[39m\u001b[38;5;124mМаршрут вписывания:\u001b[39m\u001b[38;5;124m\"\u001b[39m)\n",
      "\u001b[1;31mValueError\u001b[0m: invalid literal for int() with base 10: ''"
     ]
    }
   ],
   "source": [
    "while True:\n",
    "    ch = input(\"1 - Зашифровать\\n 2 - Расшифровать \\n 3 - Default Шифр\\n 4 - Default Расшифровка\\nother - Exit\")\n",
    "    if (ch == \"1\"):\n",
    "        str = input(\"Исходная строка:\")\n",
    "        n_rows = int(input(\"строки:\"))\n",
    "        n_columns = int(input(\"Столбцы:\"))\n",
    "        inroute = input(\"Маршрут вписывания:\")\n",
    "        outroute = input(\"Маршрут выписывания:\")\n",
    "        str_enc = encrypt(str.replace(' ', '_', -1), n_rows, n_columns, inroute, outroute)\n",
    "        #key = int(input(\"Ключ:\"))\n",
    "        #str_enc = encrypt(str, key)\n",
    "        print(str_enc)\n",
    "    elif (ch == \"2\"):\n",
    "        str = input(\"Исходная строка:\")\n",
    "        n_rows = int(input(\"строки:\"))\n",
    "        n_columns = int(input(\"Столбцы:\"))\n",
    "        inroute = input(\"Маршрут вписывания:\")\n",
    "        outroute = input(\"Маршрут выписывания:\")\n",
    "        str_enc = encrypt(str.replace(' ', '_', -1), n_rows, n_columns, outroute, inroute)\n",
    "        #key = int(input(\"Ключ:\"))\n",
    "        #str_enc = decrypt(str, key)\n",
    "        print(str_enc)\n",
    "    elif (ch == \"3\"):\n",
    "        str = \"Новиков Максим Евгеньевич 302 группа 2 подгруппа\"\n",
    "        n_rows = 6\n",
    "        n_columns = 8\n",
    "        inroute = \"row\"\n",
    "        outroute = \"column\"\n",
    "        str_enc = encrypt(str.replace(' ', '_', -1), n_rows, n_columns, inroute, outroute)\n",
    "        print(str_enc)\n",
    "    elif (ch == \"4\"):\n",
    "        str = \"НМвчуооаг пдвке3пгисн0аркиь2 уоме 2пв вг п Еирпа\"\n",
    "        n_rows = 6\n",
    "        n_columns = 8\n",
    "        inroute = \"row\"\n",
    "        outroute = \"column\"\n",
    "        str_enc = encrypt(str.replace(' ', '_', -1), n_rows, n_columns, outroute, inroute)\n",
    "        print(str_enc)\n",
    "    else:\n",
    "        break\n",
    "\n",
    "\n",
    "\n"
   ]
  }
 ],
 "metadata": {
  "kernelspec": {
   "display_name": "Python 3",
   "language": "python",
   "name": "python3"
  },
  "language_info": {
   "codemirror_mode": {
    "name": "ipython",
    "version": 3
   },
   "file_extension": ".py",
   "mimetype": "text/x-python",
   "name": "python",
   "nbconvert_exporter": "python",
   "pygments_lexer": "ipython3",
   "version": "3.13.0"
  }
 },
 "nbformat": 4,
 "nbformat_minor": 2
}
